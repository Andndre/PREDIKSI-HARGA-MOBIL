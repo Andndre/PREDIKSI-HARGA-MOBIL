{
 "cells": [
  {
   "cell_type": "markdown",
   "metadata": {},
   "source": [
    "Tampilkan Dataset"
   ]
  },
  {
   "cell_type": "code",
   "execution_count": null,
   "metadata": {},
   "outputs": [],
   "source": [
    "# Impor pustaka yang diperlukan\n",
    "import pandas as pd\n",
    "from sklearn.model_selection import train_test_split\n",
    "from sklearn.linear_model import LinearRegression\n",
    "from sklearn.metrics import mean_squared_error, r2_score, mean_absolute_error\n",
    "import numpy as np\n",
    "\n",
    "# Membaca dataset dari file CSV\n",
    "data = pd.read_csv('CAR DATA.csv')\n",
    "print(data)"
   ]
  },
  {
   "cell_type": "markdown",
   "metadata": {},
   "source": [
    "Cek Data Null"
   ]
  },
  {
   "cell_type": "code",
   "execution_count": null,
   "metadata": {},
   "outputs": [],
   "source": [
    "# Periksa nilai null\n",
    "nilai_null = data.isnull().sum()\n",
    "\n",
    "# Cetak jumlah nilai null untuk setiap kolom\n",
    "print(\"Jumlah nilai null di setiap kolom:\\n\", nilai_null)\n"
   ]
  },
  {
   "cell_type": "markdown",
   "metadata": {},
   "source": [
    "Ambil Nama Merk"
   ]
  },
  {
   "cell_type": "code",
   "execution_count": null,
   "metadata": {},
   "outputs": [],
   "source": [
    "# Pisahkan kolom 'merk' dan ambil array pertama sebagai 'Merek'\n",
    "data['merk'] = data['name'].str.split(' ').str[0]\n",
    "\n",
    "# Hapus kolom 'name' jika tidak lagi diperlukan\n",
    "data.drop(columns=['name'], inplace=True)\n",
    "\n",
    "print(\"\\nDataframe :\")\n",
    "print(data)"
   ]
  },
  {
   "cell_type": "markdown",
   "metadata": {},
   "source": [
    "Lakukan One Hot Encoding Pada kolom kolom non-numerik"
   ]
  },
  {
   "cell_type": "code",
   "execution_count": null,
   "metadata": {},
   "outputs": [],
   "source": [
    "# One-Hot Encoding pada kolom 'merk'\n",
    "data['owner'] = data['owner'].replace({'First Owner': 1, 'Second Owner': 2, 'Third Owner': 3, 'Fourth & Above Owner': 4, 'Test Drive Car': 5})\n",
    "data['transmission'] = data['transmission'].replace({'Manual': 1, 'Automatic': 2})\n",
    "data['seller_type'] = data['seller_type'].replace({'Individual': 1, 'Dealer': 2, 'Trustmark Dealer': 3})\n",
    "\n",
    "data_encoded = pd.get_dummies(data, columns=['merk', 'fuel'], drop_first=False)\n",
    "\n",
    "print(\"\\nDataframe setelah one-hot encoding pada kolom 'Merek':\")\n",
    "print(data_encoded.columns)"
   ]
  },
  {
   "cell_type": "markdown",
   "metadata": {},
   "source": [
    "Pisahkan Fitur dan Target"
   ]
  },
  {
   "cell_type": "code",
   "execution_count": null,
   "metadata": {},
   "outputs": [],
   "source": [
    "# Pisahkan target dan fitur\n",
    "X = data_encoded.drop('selling_price', axis=1)\n",
    "y = data_encoded['selling_price']\n",
    "\n",
    "print(X.columns)"
   ]
  },
  {
   "cell_type": "markdown",
   "metadata": {},
   "source": [
    "Normalisasi dengan Min Max Scaler"
   ]
  },
  {
   "cell_type": "code",
   "execution_count": null,
   "metadata": {},
   "outputs": [],
   "source": [
    "from sklearn.preprocessing import MinMaxScaler\n",
    "import joblib\n",
    "\n",
    "# Inisialisasi MinMaxScaler\n",
    "scaler = MinMaxScaler()\n",
    "\n",
    "# Normalisasi fitur\n",
    "data_normalized = scaler.fit_transform(X)\n",
    "\n",
    "# Simpan Scaler ke dalam file\n",
    "joblib.dump(scaler, 'scaler.pkl')\n",
    "\n",
    "# Konversi hasil normalisasi menjadi DataFrame\n",
    "data_normalized = pd.DataFrame(data_normalized, columns=X.columns)\n",
    "\n",
    "print(\"DataFrame setelah normalisasi:\")\n",
    "print(data_normalized)"
   ]
  },
  {
   "cell_type": "markdown",
   "metadata": {},
   "source": [
    "Bagi data menjadi Data Test dan Data Train"
   ]
  },
  {
   "cell_type": "code",
   "execution_count": null,
   "metadata": {},
   "outputs": [],
   "source": [
    "from sklearn.model_selection import train_test_split\n",
    "\n",
    "# Bagi data menjadi set pelatihan dan pengujian\n",
    "X_train, X_test, y_train, y_test = train_test_split(X, y, test_size=0.2, random_state=42)\n",
    "\n",
    "# Cetak jumlah baris dari X_train\n",
    "print('Jumlah baris dari X_train:', len(X_train))\n",
    "# Cetak nilai baris dari y_train\n",
    "print('Jumlah baris dari X_test:', len(X_test))"
   ]
  },
  {
   "cell_type": "markdown",
   "metadata": {},
   "source": [
    "Latih Menggunakan Linier Regression"
   ]
  },
  {
   "cell_type": "code",
   "execution_count": null,
   "metadata": {},
   "outputs": [],
   "source": [
    "from sklearn.linear_model import LinearRegression\n",
    "from sklearn.metrics import mean_squared_error, r2_score\n",
    "\n",
    "# Buat model regresi linear\n",
    "model = LinearRegression()\n",
    "\n",
    "# Latih model\n",
    "model.fit(X_train, y_train)\n",
    "\n",
    "# Prediksi harga pada set pengujian\n",
    "y_pred = model.predict(X_test)\n",
    "\n",
    "# Menghitung R-squared score\n",
    "r2 = r2_score(y_test, y_pred)\n",
    "# Evaluasi model dengan MSE\n",
    "mse = mean_squared_error(y_test, y_pred)\n",
    "\n",
    "print(\"Mean Squared Error:\", mse)\n",
    "print(\"R-squared score:\", r2)"
   ]
  },
  {
   "cell_type": "markdown",
   "metadata": {},
   "source": [
    "Latih Menggunakan Random Forest Regressor"
   ]
  },
  {
   "cell_type": "code",
   "execution_count": null,
   "metadata": {},
   "outputs": [],
   "source": [
    "from sklearn.ensemble import RandomForestRegressor\n",
    "from sklearn.metrics import mean_squared_error, r2_score, mean_absolute_error\n",
    "\n",
    "# Buat model Random Forest Regressor\n",
    "randomForest_model = RandomForestRegressor(n_estimators=90, max_depth=25, random_state=42)\n",
    "\n",
    "# Latih model\n",
    "randomForest_model.fit(X_train, y_train)\n",
    "\n",
    "# Prediksi harga pada set pengujian\n",
    "y_pred = randomForest_model.predict(X_test)\n",
    "\n",
    "# Menghitung R-squared score\n",
    "r2 = r2_score(y_test, y_pred)\n",
    "# Evaluasi model dengan MSE\n",
    "mse = mean_squared_error(y_test, y_pred)\n",
    "# Evaluasi model dengan MAE\n",
    "mae = mean_absolute_error(y_test, y_pred)\n",
    "\n",
    "print(\"Mean Squared Error:\", mse)\n",
    "print(\"Mean Absolute Error:\", mae)\n",
    "print(\"R-squared score:\", r2)"
   ]
  },
  {
   "cell_type": "code",
   "execution_count": null,
   "metadata": {},
   "outputs": [],
   "source": [
    "import joblib\n",
    "\n",
    "# Simpan model ke dalam file\n",
    "joblib.dump(randomForest_model, 'random_forest_model.pkl')"
   ]
  },
  {
   "cell_type": "markdown",
   "metadata": {},
   "source": [
    "Latih Menggunakan Bayessian Model"
   ]
  },
  {
   "cell_type": "code",
   "execution_count": null,
   "metadata": {},
   "outputs": [],
   "source": [
    "from sklearn.linear_model import BayesianRidge\n",
    "from sklearn.metrics import mean_squared_error, r2_score, mean_absolute_error\n",
    "\n",
    "# Buat model Bayesian Ridge Regression\n",
    "bayesian_model = BayesianRidge()\n",
    "\n",
    "# Latih model\n",
    "bayesian_model.fit(X_train, y_train)\n",
    "\n",
    "# Prediksi harga pada set pengujian\n",
    "y_pred = bayesian_model.predict(X_test)\n",
    "\n",
    "# Menghitung R-squared score\n",
    "r2 = r2_score(y_test, y_pred)\n",
    "# Evaluasi model dengan MSE\n",
    "mse = mean_squared_error(y_test, y_pred)\n",
    "# Evaluasi model dengan MAE\n",
    "mae = mean_absolute_error(y_test, y_pred)\n",
    "\n",
    "print(\"Mean Squared Error:\", mse)\n",
    "print(\"Mean Absolute Error:\", mae)\n",
    "print(\"R-squared score:\", r2)"
   ]
  },
  {
   "cell_type": "code",
   "execution_count": null,
   "metadata": {},
   "outputs": [],
   "source": [
    "from sklearn.neural_network import MLPRegressor\n",
    "from sklearn.metrics import mean_squared_error, r2_score, mean_absolute_error\n",
    "\n",
    "# Buat model Neural Network (MLPRegressor)\n",
    "nn_model = MLPRegressor(hidden_layer_sizes=(100, 50), max_iter=500, random_state=42)\n",
    "\n",
    "# Latih model\n",
    "nn_model.fit(X_train, y_train)\n",
    "\n",
    "# Prediksi harga pada set pengujian\n",
    "y_pred = nn_model.predict(X_test)\n",
    "\n",
    "# Menghitung R-squared score\n",
    "r2 = r2_score(y_test, y_pred)\n",
    "# Evaluasi model dengan MSE\n",
    "mse = mean_squared_error(y_test, y_pred)\n",
    "# Evaluasi model dengan MAE\n",
    "mae = mean_absolute_error(y_test, y_pred)\n",
    "\n",
    "print(\"Mean Squared Error:\", mse)\n",
    "print(\"Mean Absolute Error:\", mae)\n",
    "print(\"R-squared score:\", r2)\n"
   ]
  }
 ],
 "metadata": {
  "kernelspec": {
   "display_name": "base",
   "language": "python",
   "name": "python3"
  },
  "language_info": {
   "codemirror_mode": {
    "name": "ipython",
    "version": 3
   },
   "file_extension": ".py",
   "mimetype": "text/x-python",
   "name": "python",
   "nbconvert_exporter": "python",
   "pygments_lexer": "ipython3",
   "version": "3.11.7"
  }
 },
 "nbformat": 4,
 "nbformat_minor": 2
}
